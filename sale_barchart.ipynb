{
 "cells": [
  {
   "cell_type": "code",
   "execution_count": 3,
   "id": "57cd4527-2d9c-4f1f-9c98-2d15f3d004ce",
   "metadata": {},
   "outputs": [],
   "source": [
    "import sqlite3\n",
    "import pandas as pd\n",
    "import matplotlib.pyplot as plt"
   ]
  },
  {
   "cell_type": "code",
   "execution_count": 5,
   "id": "3db0c87a-711b-4856-b108-bafb64bedcc0",
   "metadata": {},
   "outputs": [],
   "source": [
    "conn = sqlite3.connect(\"C://Users//harsh//Downloads//sales_data.db\")"
   ]
  },
  {
   "cell_type": "code",
   "execution_count": 23,
   "id": "e8cd0393-ca13-40ac-b12f-6e1989a383a5",
   "metadata": {},
   "outputs": [
    {
     "name": "stdout",
     "output_type": "stream",
     "text": [
      "   id   sale_date      product  quantity    price\n",
      "0   1  2025-08-01       Mobile         3  12000.0\n",
      "1   2  2025-08-01       Laptop         1  65000.0\n",
      "2   3  2025-08-02  Accessories         5    799.0\n",
      "3   4  2025-08-02           TV         2  42000.0\n",
      "4   5  2025-08-03       Mobile         2  15000.0\n",
      "5   6  2025-08-03       Laptop         1  72000.0\n",
      "6   7  2025-08-04  Accessories        10    499.0\n",
      "7   8  2025-08-04           TV         1  38000.0\n",
      "8   9  2025-08-05       Mobile         1  18000.0\n",
      "9  10  2025-08-05  Accessories         3   1299.0\n"
     ]
    }
   ],
   "source": [
    "query = \"SELECT * FROM sales;\"\n",
    "df = pd.read_sql_query(query, conn)\n",
    "print(df)"
   ]
  },
  {
   "cell_type": "code",
   "execution_count": 33,
   "id": "56b80eb4-9b69-4f0a-95d9-a006a2fb5c17",
   "metadata": {},
   "outputs": [
    {
     "name": "stdout",
     "output_type": "stream",
     "text": [
      "    sale_date  daily_revenue\n",
      "0  2025-08-01       101000.0\n",
      "1  2025-08-02        87995.0\n",
      "2  2025-08-03       102000.0\n",
      "3  2025-08-04        42990.0\n",
      "4  2025-08-05        21897.0\n"
     ]
    }
   ],
   "source": [
    "query = \"\"\"SELECT \n",
    "    product,\n",
    "    SUM(quantity) AS total_qty,\n",
    "    ROUND(SUM(quantity * price), 2) AS revenue\n",
    "FROM sales\n",
    "GROUP BY product\n",
    "ORDER BY revenue DESC;\"\"\"\n",
    "df_prod= pd.read_sql_query(query, conn)\n",
    "print(df)"
   ]
  },
  {
   "cell_type": "code",
   "execution_count": 35,
   "id": "56fcbc34-50b7-4424-995a-09d23b016672",
   "metadata": {},
   "outputs": [
    {
     "name": "stdout",
     "output_type": "stream",
     "text": [
      "    sale_date  daily_revenue\n",
      "0  2025-08-01       101000.0\n",
      "1  2025-08-02        87995.0\n",
      "2  2025-08-03       102000.0\n",
      "3  2025-08-04        42990.0\n",
      "4  2025-08-05        21897.0\n"
     ]
    }
   ],
   "source": [
    "query=\"\"\"SELECT \n",
    "    sale_date,\n",
    "    ROUND(SUM(quantity * price), 2) AS daily_revenue\n",
    "FROM sales\n",
    "GROUP BY sale_date\n",
    "ORDER BY sale_date;\"\"\"\n",
    "df_sale= pd.read_sql_query(query, conn)\n",
    "print(df)"
   ]
  },
  {
   "cell_type": "code",
   "execution_count": 41,
   "id": "10a5c5e7-9d69-4666-ab97-3743cc82b1ce",
   "metadata": {},
   "outputs": [
    {
     "name": "stdout",
     "output_type": "stream",
     "text": [
      "Index(['product', 'total_qty', 'revenue'], dtype='object')\n",
      "       product  total_qty   revenue\n",
      "0       Laptop          2  137000.0\n",
      "1           TV          3  122000.0\n",
      "2       Mobile          6   84000.0\n",
      "3  Accessories         18   12882.0\n"
     ]
    }
   ],
   "source": [
    "print(df_prod.columns)\n",
    "print(df_prod.head())"
   ]
  },
  {
   "cell_type": "code",
   "execution_count": 54,
   "id": "2479aea7-f56f-48f8-a333-0c5588e66d8e",
   "metadata": {},
   "outputs": [
    {
     "data": {
      "image/png": "[encoded data removed]",
      "text/plain": [
       "<Figure size 640x480 with 1 Axes>"
      ]
     },
     "metadata": {},
     "output_type": "display_data"
    }
   ],
   "source": [
    "plt.bar(df_prod['product'], df_prod['revenue'])\n",
    "plt.xlabel('Product')\n",
    "plt.ylabel('Revenue')\n",
    "plt.title('Revenue by Product')\n",
    "plt.savefig(r\"C://Users//harsh//Downloads//sales_chart.png\")\n",
    "plt.show()\n",
    "\n"
   ]
  },
  {
   "cell_type": "code",
   "execution_count": 46,
   "id": "c7a34b0b-f490-414f-b00f-102480db7aaa",
   "metadata": {},
   "outputs": [
    {
     "data": {
      "text/plain": [
       "<Figure size 640x480 with 0 Axes>"
      ]
     },
     "metadata": {},
     "output_type": "display_data"
    }
   ],
   "source": [
    "plt.savefig(\"revenue_chart.png\", dpi=300, bbox_inches='tight')"
   ]
  },
  {
   "cell_type": "code",
   "execution_count": null,
   "id": "db0f4942-eb7b-4743-a81b-cd8e627f4d15",
   "metadata": {},
   "outputs": [],
   "source": []
  }
 ],
 "metadata": {
  "kernelspec": {
   "display_name": "Python [conda env:base] *",
   "language": "python",
   "name": "conda-base-py"
  },
  "language_info": {
   "codemirror_mode": {
    "name": "ipython",
    "version": 3
   },
   "file_extension": ".py",
   "mimetype": "text/x-python",
   "name": "python",
   "nbconvert_exporter": "python",
   "pygments_lexer": "ipython3",
   "version": "3.12.7"
  }
 },
 "nbformat": 4,
 "nbformat_minor": 5
}
